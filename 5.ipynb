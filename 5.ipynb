{
 "cells": [
  {
   "cell_type": "markdown",
   "id": "650cf425",
   "metadata": {},
   "source": [
    "To determine the number of new columns created when applying nominal (or label) encoding to categorical data, we first need to understand how nominal encoding works. Unlike one-hot encoding, which creates a new column for each category within a categorical variable, nominal encoding simply replaces each category with a unique integer. Therefore, the number of columns remains the same regardless of the number of categories in each categorical column.\n",
    "\n",
    "Given your dataset:\n",
    "\n",
    "Total original columns: 5\n",
    "Categorical columns: 2\n",
    "Numerical columns: 3\n",
    "When applying nominal encoding to the categorical columns, each of these columns remains a single column. The categories within these columns are simply transformed into numerical values. No additional columns are created in the process.\n",
    "\n",
    "Therefore, after applying nominal encoding, the dataset will still have 5 columns in total. The structure will be:\n",
    "\n",
    "2 columns (categorical) transformed into numerical format via nominal encoding\n",
    "3 columns (numerical) remain unchanged\n",
    "In summary, no new columns are created through the process of nominal encoding."
   ]
  }
 ],
 "metadata": {
  "kernelspec": {
   "display_name": "Python 3 (ipykernel)",
   "language": "python",
   "name": "python3"
  },
  "language_info": {
   "codemirror_mode": {
    "name": "ipython",
    "version": 3
   },
   "file_extension": ".py",
   "mimetype": "text/x-python",
   "name": "python",
   "nbconvert_exporter": "python",
   "pygments_lexer": "ipython3",
   "version": "3.10.9"
  }
 },
 "nbformat": 4,
 "nbformat_minor": 5
}
